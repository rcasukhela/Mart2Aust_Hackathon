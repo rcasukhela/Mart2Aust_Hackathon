{
 "cells": [
  {
   "cell_type": "code",
   "execution_count": 8,
   "metadata": {},
   "outputs": [],
   "source": [
    "import os\n",
    "import numpy as np\n",
    "import numpy.linalg as npl\n",
    "import random\n",
    "\n",
    "import orix\n",
    "from diffpy.structure import Atom, Lattice, Structure\n",
    "from orix import data, io, plot\n",
    "from orix.io import load, save\n",
    "from orix.crystal_map import CrystalMap, Phase, PhaseList\n",
    "from orix.quaternion import Misorientation, Orientation, Rotation, symmetry\n",
    "from orix.sampling import get_sample_fundamental\n",
    "from orix.vector import Vector3d\n",
    "\n",
    "import scipy\n",
    "from scipy import stats\n",
    "from scipy.spatial.transform import Rotation as R\n",
    "from sklearn.neighbors import KernelDensity"
   ]
  },
  {
   "cell_type": "code",
   "execution_count": 2,
   "metadata": {},
   "outputs": [],
   "source": [
    "# Defining our rotations grid..\n",
    "\n",
    "pg432 = symmetry.O\n",
    "resolution2 = 1\n",
    "\n",
    "rot_quat = get_sample_fundamental(resolution2, point_group=pg432, method=\"quaternion\")\n",
    "ori_quat_uniform = Orientation(rot_quat, symmetry=pg432)\n",
    "\n",
    "# Quaternion is a 4D normalized vector."
   ]
  },
  {
   "cell_type": "code",
   "execution_count": 3,
   "metadata": {},
   "outputs": [],
   "source": [
    "# Loading in our data from .ang files\n",
    "\n",
    "target = os.path.abspath(os.path.join(\n",
    "    'sdss_ferrite_austenite.ang'\n",
    "))\n",
    "\n",
    "# Read each column from the file\n",
    "euler1, euler2, euler3, x, y, iq, dp, phase_id = np.loadtxt(target, unpack=True)\n",
    "\n",
    "# Create a Rotation object from Euler angles\n",
    "euler_angles = np.column_stack((euler1, euler2, euler3))\n",
    "rotations = Rotation.from_euler(euler_angles)\n",
    "\n",
    "# Create a property dictionary\n",
    "properties = dict(iq=iq, dp=dp)\n",
    "\n",
    "# Create unit cells of the phases\n",
    "structures = [\n",
    "    Structure(\n",
    "        title=\"austenite\",\n",
    "        atoms=[Atom(\"fe\", [0] * 3)],\n",
    "        lattice=Lattice(0.360, 0.360, 0.360, 90, 90, 90)\n",
    "    ),\n",
    "    Structure(\n",
    "        title=\"ferrite\",\n",
    "        atoms=[Atom(\"fe\", [0] * 3)],\n",
    "        lattice=Lattice(0.287, 0.287, 0.287, 90, 90, 90)\n",
    "    ),\n",
    "]\n",
    "phase_list = PhaseList(\n",
    "    names=[\"austenite\", \"ferrite\"],\n",
    "    point_groups=[\"432\", \"432\"],\n",
    "    structures=structures,\n",
    ")\n",
    "\n",
    "# Create a CrystalMap instance\n",
    "xmap = CrystalMap(\n",
    "    rotations=rotations,\n",
    "    phase_id=phase_id,\n",
    "    x=x,\n",
    "    y=y,\n",
    "    phase_list=phase_list,\n",
    "    prop=properties,\n",
    ")\n",
    "\n",
    "xmap.phases[1].name = \"austenite\"\n",
    "xmap.phases[2].name = \"ferrite\"\n",
    "Aust = xmap['austenite']"
   ]
  },
  {
   "cell_type": "code",
   "execution_count": 4,
   "metadata": {},
   "outputs": [],
   "source": [
    "def generate_random_quaternion(size=1):\n",
    "    '''\n",
    "    This function generates an arbitrary number of quaternions.\n",
    "    \n",
    "    Quaternions are 4D normalized vectors.\n",
    "    \n",
    "    We will generate these quaternions by sampling from a uniform distribution,\n",
    "    and normalizing the vector. Then, we will append the normalized quaternion\n",
    "    to the output, `quaternions`.\n",
    "\n",
    "    Inputs:\n",
    "    --------------\n",
    "    size : int\n",
    "        Number of quaternions to generate.\n",
    "    \n",
    "\n",
    "    Outputs:\n",
    "    --------------\n",
    "    quaternions : list\n",
    "        Generated quaternions.\n",
    "\n",
    "\n",
    "    Dependencies:\n",
    "    --------------\n",
    "    import numpy as np\n",
    "    import numpy.linalg as npl\n",
    "\n",
    "\n",
    "    Author(s) (Remove during code review):\n",
    "    --------------\n",
    "    Adam Pilchak\n",
    "    Rohan Casukhela\n",
    "    '''\n",
    "    quaternions = []\n",
    "    for element_0 in range(size):\n",
    "        quaternion = np.random.randint(-10000, 10000, 4)\n",
    "        quaternion = npl.norm(quaternion)\n",
    "        quaternions.append(quaternion)\n",
    "\n",
    "    return quaternions"
   ]
  },
  {
   "cell_type": "code",
   "execution_count": 5,
   "metadata": {},
   "outputs": [],
   "source": [
    "# Defining our rotations of our grid and our data..\n",
    "\n",
    "data_quat = Aust.orientations\n",
    "data_xyz = R.from_quat(data_quat.data).as_mrp()\n",
    "sp_ori = R.from_quat(data_quat.data)\n",
    "o2 = R.from_quat(ori_quat_uniform.data)"
   ]
  },
  {
   "cell_type": "code",
   "execution_count": 6,
   "metadata": {},
   "outputs": [],
   "source": [
    "def generate_ODF(orientations, rotations, bin_number=100, sigma=1, method=\"fast\"):\n",
    "    '''\n",
    "    Generates ODF over rotations, given orientations. Only \"Fast\" method is\n",
    "    supported, currently.\n",
    "\n",
    "    The ODF is generated by first creating a histogram with forced bin numbers.\n",
    "    Second, the histogram is convolved with a Gaussian kernel with fixed variance,\n",
    "    sigma.\n",
    "\n",
    "    Inputs:\n",
    "    --------------\n",
    "    orientations : np.array\n",
    "        This is an array of orientations, in quaternion space.\n",
    "\n",
    "    rotations : np.array\n",
    "        This is an array of the rotations with some pre-defined resolution,\n",
    "        also in quaternion space.\n",
    "\n",
    "    bin_number : int\n",
    "        Number of bins in one dimension (for a total of three, X, Y, and Z)\n",
    "        we'd like to create the histogram over. (MUST BE NON-NEGATIVE)\n",
    "\n",
    "    sigma : float\n",
    "        Variance of the Gaussian kernel when we blur the histogram. (MUST BE\n",
    "        GREATER THAN OR EQUAL TO ZERO))\n",
    "\n",
    "    ***method*** : str\n",
    "        \"fast\" ONLY for now, eventually \"accurate\". WARNING:\n",
    "        Currently only \"fast\" (AND INACCURATE) ODF generation is supported.\n",
    "\n",
    "    \n",
    "    Outputs:\n",
    "    --------------\n",
    "    odf : np.array\n",
    "        This array should contain the values of the smoothed histogram\n",
    "        that we want.\n",
    "\n",
    "    Dependencies:\n",
    "    --------------\n",
    "    from numpy import histogramdd\n",
    "    from scipy.spatial.transform import Rotation as R\n",
    "    from scipy.ndimage import gaussian_filter\n",
    "\n",
    "\n",
    "    '''\n",
    "    ori_xyz = R.from_quat(orientations.data).as_mrp()\n",
    "    \n",
    "    hist, edges = histogramdd(ori_xyz, bin_number)\n",
    "    \n",
    "    odf = gaussian_filter(hist, sigma=sigma)\n",
    "\n",
    "    return odf\n",
    "\n",
    "\n",
    "def plot_stuff():\n",
    "    import matplotlib.pyplot as plt\n",
    "    fig, axs = plt.subplots(int(np.sqrt(bin_number)), int(np.sqrt(bin_number)), figsize=(15,15), )\n",
    "    layer_index = 0\n",
    "    for elem0 in range(int(np.sqrt(bin_number))):\n",
    "        for elem1 in range(int(np.sqrt(bin_number))):\n",
    "            axs[int(elem0), int(elem1)].plot(hist[:, :, int(layer_index)])\n",
    "            layer_index += 1\n",
    "    return None\n",
    "\n"
   ]
  },
  {
   "cell_type": "code",
   "execution_count": 28,
   "metadata": {},
   "outputs": [
    {
     "data": {
      "text/plain": [
       "<matplotlib.image.AxesImage at 0x1d3a3ee8880>"
      ]
     },
     "execution_count": 28,
     "metadata": {},
     "output_type": "execute_result"
    },
    {
     "data": {
      "image/png": "[encoded data removed]",
      "text/plain": [
       "<Figure size 432x288 with 1 Axes>"
      ]
     },
     "metadata": {
      "needs_background": "light"
     },
     "output_type": "display_data"
    }
   ],
   "source": [
    "import matplotlib.pyplot as plt\n",
    "plt.imshow(gaussian_convolution[:,:, 1])"
   ]
  },
  {
   "cell_type": "markdown",
   "metadata": {},
   "source": [
    "`data_quat` is our data, `ori_quat_uniform` is our grid.\n",
    "\n",
    "What we need to do is, for each point on the grid, to evaulate the kernel at each \n",
    "of the elements in `data_quat`.\n",
    "\n",
    "So, pick a kernel returning a half-width and kernel function."
   ]
  },
  {
   "cell_type": "code",
   "execution_count": 14,
   "metadata": {},
   "outputs": [],
   "source": [
    "KernelDensity(kernel = 'gaussian')\n",
    "kde_sk = KernelDensity(bandwidth=1.0, kernel='gaussian')\n",
    "kde_sk.fit(data_quat.data)\n",
    "y_sk = np.exp(kde_sk.score_samples(ori_quat_uniform.data))"
   ]
  },
  {
   "cell_type": "code",
   "execution_count": 12,
   "metadata": {},
   "outputs": [
    {
     "data": {
      "text/plain": [
       "array([[ 0.92718385],\n",
       "       [ 0.37460659],\n",
       "       [ 0.        ],\n",
       "       ...,\n",
       "       [ 0.3362215 ],\n",
       "       [-0.19850813],\n",
       "       [-0.28349899]])"
      ]
     },
     "execution_count": 12,
     "metadata": {},
     "output_type": "execute_result"
    }
   ],
   "source": []
  },
  {
   "cell_type": "code",
   "execution_count": null,
   "metadata": {},
   "outputs": [],
   "source": []
  }
 ],
 "metadata": {
  "interpreter": {
   "hash": "b0bf38a363847418b304197a515b50fafa9c43b6867ea43e99327136130250c3"
  },
  "kernelspec": {
   "display_name": "Python 3.9.12 ('hackathon')",
   "language": "python",
   "name": "python3"
  },
  "language_info": {
   "codemirror_mode": {
    "name": "ipython",
    "version": 3
   },
   "file_extension": ".py",
   "mimetype": "text/x-python",
   "name": "python",
   "nbconvert_exporter": "python",
   "pygments_lexer": "ipython3",
   "version": "3.9.12"
  },
  "orig_nbformat": 4
 },
 "nbformat": 4,
 "nbformat_minor": 2
}
