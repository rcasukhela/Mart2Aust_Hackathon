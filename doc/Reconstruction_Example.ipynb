{
 "cells": [
  {
   "cell_type": "markdown",
   "id": "e0f4cbf7",
   "metadata": {},
   "source": [
    "# Parent/Child Reconstruction example\n",
    "\n",
    "This notebook details how to perform a Parent/Child reconstruction, in this case determining the prior Austenite grains from a Martensitic sample of AF96 Steel. This is based primarily off of [insert links here](www.google.com).\n",
    "(should also [add links to folder of recon functions once they exist](reference.rst#orix.crystal_map.CrystalMap)).aaa\n",
    "\n",
    "THe data used here can be downloaded from (blah), courtesy of Vikas et all (add rest of contributos here as well as link to publication)\n"
   ]
  },
  {
   "cell_type": "code",
   "execution_count": 2,
   "id": "65853113",
   "metadata": {},
   "outputs": [],
   "source": [
    "%matplotlib inline\n",
    "\n",
    "import os\n",
    "import tempfile\n",
    "\n",
    "from diffpy.structure import Atom, Lattice, Structure\n",
    "import matplotlib.pyplot as plt\n",
    "import numpy as np\n",
    "\n",
    "from orix import data, plot\n",
    "from orix.crystal_map import CrystalMap, Phase, PhaseList\n",
    "from orix.io import load, save\n",
    "from orix.quaternion import Orientation, Rotation, symmetry\n",
    "from orix.vector import Vector3d\n",
    "\n",
    "\n",
    "plt.rcParams.update({\"figure.figsize\": (7, 7), \"font.size\": 15})\n",
    "tempdir = tempfile.mkdtemp() + \"/\""
   ]
  },
  {
   "cell_type": "markdown",
   "id": "bb0dcb36",
   "metadata": {},
   "source": [
    "## Load, create and save\n",
    "\n",
    "A CrystalMap instance can be obtained by reading an orientation data set stored\n",
    "in a format supported by orix using the\n",
    "[orix.io.load()](reference.rst#orix.io.load) function, or by passing the\n",
    "necessary arrays to the\n",
    "[CrystalMap.\\_\\_init\\_\\_()](reference.rst#orix.crystal_map.CrystalMap)\n",
    "method. Here, we use the first method (see crystal map example for other methods)\n",
    "\n",
    "### Load AF96 example\n",
    "\n",
    "Load example brad made (currently doesn't work correctly)\n",
    "#TODO!!!! - We do not have a way to auto-download the AF96 datasets yet (see issue #3 on github page for more details). currently import default orix example instead"
   ]
  },
  {
   "cell_type": "code",
   "execution_count": 5,
   "id": "d1932194",
   "metadata": {},
   "outputs": [],
   "source": [
    "import os\n",
    "import tempfile\n",
    "\n",
    "tempdir = tempfile.mkdtemp() + \"/\"\n",
    "# Wrong, old path\n",
    "fname = \"sdss_ferrite_austenite.ang\"\n",
    "source = f\"https://folk.ntnu.no/hakonwii/files/orix-demos/{fname}\"\n",
    "# correct, new, not working path (I assume OneDrive hates this, need to host on OSU website instead\n",
    "#fname = \"AF_001.hdf5\"\n",
    "#source = f\"https://buckeyemailosu-my.sharepoint.com/personal/gerlt_1_buckeyemail_osu_edu/_layouts/15/onedrive.aspx?id=%2Fpersonal%2Fgerlt%5F1%5Fbuckeyemail%5Fosu%5Fedu%2FDocuments%2FMESO%5FOSU%2FHackathon%2FEBSD%2FAF96%5F321x%5Forix%5Fhdf5%5Fconversion&FolderCTID=0x01200034E8947926BCBB4AB0DE6B52291BDB9E/{fname}\"\n",
    "\n",
    "target = os.path.join(tempdir, fname)\n",
    "\n",
    "try:\n",
    "    os.mkdir(tempdir)\n",
    "except:\n",
    "    pass\n",
    "if not os.path.exists(target):\n",
    "    import urllib.request\n",
    "    urllib.request.urlretrieve(source, target)\n",
    "    \n",
    "    \n"
   ]
  },
  {
   "cell_type": "markdown",
   "id": "bfe78b39",
   "metadata": {},
   "source": [
    "### Perform Prep \n",
    "Note: this is a step in Matlab Aust2Mart, but might not need to be here"
   ]
  },
  {
   "cell_type": "code",
   "execution_count": null,
   "id": "29230374",
   "metadata": {},
   "outputs": [],
   "source": [
    "# Add code here"
   ]
  },
  {
   "cell_type": "markdown",
   "id": "1100d51c",
   "metadata": {},
   "source": [
    "### Determine the parent/child orientation relationship\n",
    "This step will involve some bayesian statistics, and will be in a file called \"OR\", and access a main function called \"determine_or\""
   ]
  },
  {
   "cell_type": "code",
   "execution_count": null,
   "id": "f2a30d12",
   "metadata": {},
   "outputs": [],
   "source": [
    "# Add code here"
   ]
  },
  {
   "cell_type": "markdown",
   "id": "a0d550cc",
   "metadata": {},
   "source": [
    "### Do initial reconstruction\n",
    "This step is going to be the main graph cut, and all the functions for it should be in a single final file called \"Reconstruction.py\" inside a Recon folder in the orix Repo\n"
   ]
  },
  {
   "cell_type": "code",
   "execution_count": null,
   "id": "0b27de25",
   "metadata": {},
   "outputs": [],
   "source": [
    "# Add code here"
   ]
  },
  {
   "cell_type": "markdown",
   "id": "3d486719",
   "metadata": {},
   "source": [
    "### Segement the Variants from each Parent Grain\n",
    "This step uses the graph cut to determine variants using two EBSD maps, one of the child (original) and one of hte parent (Recon(original)). It will be in a filled called Segment.py, and will have a main function called \"Segment Children\""
   ]
  },
  {
   "cell_type": "code",
   "execution_count": null,
   "id": "01c69a17",
   "metadata": {},
   "outputs": [],
   "source": [
    "# Add code here"
   ]
  }
 ],
 "metadata": {
  "kernelspec": {
   "display_name": "Python 3 (ipykernel)",
   "language": "python",
   "name": "python3"
  },
  "language_info": {
   "codemirror_mode": {
    "name": "ipython",
    "version": 3
   },
   "file_extension": ".py",
   "mimetype": "text/x-python",
   "name": "python",
   "nbconvert_exporter": "python",
   "pygments_lexer": "ipython3",
   "version": "3.9.7"
  }
 },
 "nbformat": 4,
 "nbformat_minor": 5
}
