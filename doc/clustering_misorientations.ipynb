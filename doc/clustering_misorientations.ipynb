{
 "cells": [
  {
   "cell_type": "markdown",
   "metadata": {
    "nbsphinx": "hidden",
    "tags": []
   },
   "source": [
    "This notebook is part of the *orix* documentation https://orix.readthedocs.io. Links to the documentation won’t work from the notebook."
   ]
  },
  {
   "cell_type": "markdown",
   "metadata": {},
   "source": [
    "# Clustering misorientations\n",
    "\n",
    "This notebook illustrates clustering of Ti crystal misorientations using data\n",
    "obtained from a highly deformed specimen, using EBSD, as presented in\n",
    "<cite data-cite=\"johnstone2020density\">Johnstone et al. (2020)</cite>. The data\n",
    "can be downloaded to your local cache via the\n",
    "[orix.data](reference.rst#data) module.\n",
    "\n",
    "\n",
    "Import orix classes and various dependencies"
   ]
  },
  {
   "cell_type": "code",
   "execution_count": null,
   "metadata": {},
   "outputs": [],
   "source": [
    "# exchange \"inline\" for \"notebook\" (or \"qt5\" from pyqt) for interactive plotting\n",
    "%matplotlib inline\n",
    "\n",
    "from matplotlib.colors import to_rgb\n",
    "from matplotlib.lines import Line2D\n",
    "import matplotlib.pyplot as plt\n",
    "import numpy as np\n",
    "from skimage.color import label2rgb\n",
    "from sklearn.cluster import DBSCAN\n",
    "\n",
    "from orix import data, plot\n",
    "from orix.quaternion import Orientation, Misorientation, Rotation\n",
    "from orix.quaternion.symmetry import D6\n",
    "from orix.vector import Vector3d\n",
    "\n",
    "\n",
    "plt.rcParams.update({\"font.size\": 20, \"figure.figsize\": (10, 10)})"
   ]
  },
  {
   "cell_type": "markdown",
   "metadata": {},
   "source": [
    "## Import data"
   ]
  },
  {
   "cell_type": "markdown",
   "metadata": {},
   "source": [
    "Load Ti orientations with the point group symmetry *D6* (*622*). We have to\n",
    "explicitly allow download from an external source."
   ]
  },
  {
   "cell_type": "code",
   "execution_count": null,
   "metadata": {},
   "outputs": [],
   "source": [
    "ori = data.ti_orientations(allow_download=True)\n",
    "ori"
   ]
  },
  {
   "cell_type": "markdown",
   "metadata": {},
   "source": [
    "The orientations define transformations from the sample (lab) to the crystal\n",
    "reference frame, i.e. the Bunge convention. The above referenced paper assumes\n",
    "the opposite convention, which is the one used in MTEX. So, we have to invert\n",
    "the orientations"
   ]
  },
  {
   "cell_type": "code",
   "execution_count": null,
   "metadata": {},
   "outputs": [],
   "source": [
    "ori = ~ori"
   ]
  },
  {
   "cell_type": "markdown",
   "metadata": {},
   "source": [
    "Reshape the orientation mapping data to the correct spatial dimension for the\n",
    "scan"
   ]
  },
  {
   "cell_type": "code",
   "execution_count": null,
   "metadata": {},
   "outputs": [],
   "source": [
    "ori = ori.reshape(381, 507)"
   ]
  },
  {
   "cell_type": "markdown",
   "metadata": {},
   "source": [
    "Select a subset of the orientations with a suitable size for this demonstration"
   ]
  },
  {
   "cell_type": "code",
   "execution_count": null,
   "metadata": {},
   "outputs": [],
   "source": [
    "ori = ori[-100:, :200]"
   ]
  },
  {
   "cell_type": "markdown",
   "metadata": {},
   "source": [
    "Plot quick orientation maps"
   ]
  },
  {
   "cell_type": "code",
   "execution_count": null,
   "metadata": {},
   "outputs": [],
   "source": [
    "ckey = plot.IPFColorKeyTSL(D6)\n",
    "ckey.plot()"
   ]
  },
  {
   "cell_type": "code",
   "execution_count": null,
   "metadata": {},
   "outputs": [],
   "source": [
    "fig, ax = plt.subplots(ncols=2, figsize=(15, 10))\n",
    "directions = [(1, 0, 0), (0, 1, 0)]\n",
    "titles = [\"X\", \"Y\"]\n",
    "for i in range(len(ax)):\n",
    "    ckey.direction = Vector3d(directions[i])\n",
    "    ax[i].imshow(ckey.orientation2color(~ori))  # Invert because orix assumes lab2crystal when coloring orientations\n",
    "    ax[i].set_title(f\"IPF-{titles[i]}\")\n",
    "    ax[i].axis(\"off\")\n",
    "fig.tight_layout()"
   ]
  },
  {
   "cell_type": "markdown",
   "metadata": {},
   "source": [
    "Map the orientations into the fundamental zone (find\n",
    "symmetrically equivalent orientations with the smallest\n",
    "angle of rotation) of *D6*"
   ]
  },
  {
   "cell_type": "code",
   "execution_count": null,
   "metadata": {},
   "outputs": [],
   "source": [
    "ori = ori.map_into_symmetry_reduced_zone()"
   ]
  },
  {
   "cell_type": "markdown",
   "metadata": {},
   "source": [
    "Compute misorientations (in the horizontal direction)"
   ]
  },
  {
   "cell_type": "code",
   "execution_count": null,
   "metadata": {},
   "outputs": [],
   "source": [
    "mori_all = Misorientation(~ori[:, :-1] * ori[:, 1:])"
   ]
  },
  {
   "cell_type": "markdown",
   "metadata": {},
   "source": [
    "Keep only misorientations with a disorientation angle higher than 7$^{\\circ}$,\n",
    "assumed to represent grain boundaries"
   ]
  },
  {
   "cell_type": "code",
   "execution_count": null,
   "metadata": {},
   "outputs": [],
   "source": [
    "boundary_mask = mori_all.angle > np.deg2rad(7)\n",
    "mori = mori_all[boundary_mask]"
   ]
  },
  {
   "cell_type": "markdown",
   "metadata": {},
   "source": [
    "Map the misorientations into the fundamental zone of (*D6*, *D6*)"
   ]
  },
  {
   "cell_type": "code",
   "execution_count": null,
   "metadata": {},
   "outputs": [],
   "source": [
    "mori.symmetry = (D6, D6)\n",
    "mori = mori.map_into_symmetry_reduced_zone()"
   ]
  },
  {
   "cell_type": "markdown",
   "metadata": {},
   "source": [
    "## Compute distance matrix"
   ]
  },
  {
   "cell_type": "code",
   "execution_count": null,
   "metadata": {},
   "outputs": [],
   "source": [
    "# Increase the chunk size for a faster but more memory intensive computation\n",
    "D = mori.get_distance_matrix()"
   ]
  },
  {
   "cell_type": "markdown",
   "metadata": {},
   "source": [
    "## Clustering"
   ]
  },
  {
   "cell_type": "markdown",
   "metadata": {},
   "source": [
    "Apply mask to remove small misorientations associated with grain orientation spread"
   ]
  },
  {
   "cell_type": "code",
   "execution_count": null,
   "metadata": {},
   "outputs": [],
   "source": [
    "small_mask = mori.angle < np.deg2rad(7)\n",
    "D = D[~small_mask][:, ~small_mask]\n",
    "mori = mori[~small_mask]"
   ]
  },
  {
   "cell_type": "markdown",
   "metadata": {},
   "source": [
    "For parameter explanations of the DBSCAN algorithm (Density-Based Spatial\n",
    "Clustering for Applications with Noise), see the\n",
    "[scikit-learn documentation](https://scikit-learn.org/stable/modules/generated/sklearn.cluster.DBSCAN.html)."
   ]
  },
  {
   "cell_type": "code",
   "execution_count": null,
   "metadata": {},
   "outputs": [],
   "source": [
    "# Compute clusters\n",
    "dbscan = DBSCAN(\n",
    "    eps=0.05,\n",
    "    min_samples=10,\n",
    "    metric=\"precomputed\"\n",
    ").fit(D)\n",
    "\n",
    "unique_labels, all_cluster_sizes = np.unique(dbscan.labels_, return_counts=True)\n",
    "print(\"Labels:\", unique_labels)\n",
    "\n",
    "n_clusters = unique_labels.size - 1\n",
    "print(\"Number of clusters:\", n_clusters)"
   ]
  },
  {
   "cell_type": "markdown",
   "metadata": {},
   "source": [
    "Calculate the mean misorientation associated with each cluster"
   ]
  },
  {
   "cell_type": "code",
   "execution_count": null,
   "metadata": {},
   "outputs": [],
   "source": [
    "unique_cluster_labels = unique_labels[1:]  # Without the \"no-cluster\" label -1\n",
    "cluster_sizes = all_cluster_sizes[1:]\n",
    "\n",
    "rc = Rotation.from_axes_angles((0, 0, 1), np.deg2rad(15))\n",
    "\n",
    "mori_mean = []\n",
    "for label in unique_cluster_labels:\n",
    "    # Rotate\n",
    "    mori_i = rc * mori[dbscan.labels_ == label]\n",
    "\n",
    "    # Map into the fundamental zone\n",
    "    mori_i.symmetry = (D6, D6)\n",
    "    mori_i = mori_i.map_into_symmetry_reduced_zone()\n",
    "\n",
    "    # Get the cluster mean\n",
    "    mori_i = mori_i.mean()\n",
    "\n",
    "    # Rotate back and add to list\n",
    "    cluster_mean_local = (~rc) * mori_i\n",
    "    mori_mean.append(cluster_mean_local)\n",
    "\n",
    "cluster_means = Misorientation.stack(mori_mean).flatten()\n",
    "\n",
    "# Map into the fundamental zone\n",
    "cluster_means.symmetry = (D6, D6)\n",
    "cluster_means = cluster_means.map_into_symmetry_reduced_zone()\n",
    "cluster_means"
   ]
  },
  {
   "cell_type": "markdown",
   "metadata": {},
   "source": [
    "Inspect misorientations in the axis-angle representation"
   ]
  },
  {
   "cell_type": "code",
   "execution_count": null,
   "metadata": {},
   "outputs": [],
   "source": [
    "cluster_means.axis"
   ]
  },
  {
   "cell_type": "code",
   "execution_count": null,
   "metadata": {},
   "outputs": [],
   "source": [
    "np.rad2deg(cluster_means.angle)"
   ]
  },
  {
   "cell_type": "markdown",
   "metadata": {},
   "source": [
    "Define reference misorientations associated with twinning orientation relationships"
   ]
  },
  {
   "cell_type": "code",
   "execution_count": null,
   "metadata": {},
   "outputs": [],
   "source": [
    "# From Krakow et al.\n",
    "twin_theory = Rotation.from_axes_angles(\n",
    "    axes=[\n",
    "        (1, 0, 0),  # sigma7a\n",
    "        (1, 0, 0),  # sigma11a\n",
    "        (2, 1, 0),  # sigma11b\n",
    "        (1, 0, 0),  # sigma13a\n",
    "        (2, 1, 0),  # sigma13b\n",
    "    ],\n",
    "    angles=np.deg2rad([64.40, 34.96, 85.03, 76.89, 57.22])\n",
    ")"
   ]
  },
  {
   "cell_type": "markdown",
   "metadata": {},
   "source": [
    "Calculate difference, defined as minimum rotation angle, between measured and\n",
    "theoretical values"
   ]
  },
  {
   "cell_type": "code",
   "execution_count": null,
   "metadata": {},
   "outputs": [],
   "source": [
    "mori2 = (~twin_theory).outer(cluster_means)\n",
    "sym_op = D6.outer(D6).unique()\n",
    "mori2_equiv = D6.outer(~twin_theory).outer(sym_op).outer(cluster_means).outer(D6)\n",
    "D2 = mori2_equiv.angle.min(axis=(0, 2, 4))"
   ]
  },
  {
   "cell_type": "code",
   "execution_count": null,
   "metadata": {},
   "outputs": [],
   "source": [
    "np.rad2deg(D2)"
   ]
  },
  {
   "cell_type": "markdown",
   "metadata": {},
   "source": [
    "We see that the first, second, third, and fourth clusters are within $4.5^{\\circ}$\n",
    "of $\\Sigma7$a, $\\Sigma13$a, $\\Sigma11$a, and $\\Sigma13$b, respectively."
   ]
  },
  {
   "cell_type": "markdown",
   "metadata": {},
   "source": [
    "## Visualisation\n",
    "\n",
    "Associate colours with clusters for plotting"
   ]
  },
  {
   "cell_type": "code",
   "execution_count": null,
   "metadata": {},
   "outputs": [],
   "source": [
    "colors = [to_rgb(f\"C{i}\") for i in range(cluster_means.size)]\n",
    "labels_rgb = label2rgb(dbscan.labels_, colors=colors, bg_label=-1)"
   ]
  },
  {
   "cell_type": "markdown",
   "metadata": {},
   "source": [
    "Inspect misorientation axes of clusters in an inverse pole figure"
   ]
  },
  {
   "cell_type": "code",
   "execution_count": null,
   "metadata": {},
   "outputs": [],
   "source": [
    "cluster_sizes = all_cluster_sizes[1:]\n",
    "cluster_sizes_scaled = 1000 * cluster_sizes / cluster_sizes.max()\n",
    "\n",
    "fig, ax = plt.subplots(figsize=(5, 5), subplot_kw=dict(projection=\"ipf\", symmetry=D6))\n",
    "ax.scatter(\n",
    "    cluster_means.axis, c=colors, s=cluster_sizes_scaled, alpha=0.5, ec=\"k\"\n",
    ")"
   ]
  },
  {
   "cell_type": "markdown",
   "metadata": {},
   "source": [
    "Plot a top view of the misorientation clusters within the fundamental zone for\n",
    "the (*D6*, *D6*) bicrystal symmetry"
   ]
  },
  {
   "cell_type": "code",
   "execution_count": null,
   "metadata": {
    "nbsphinx-thumbnail": {
     "tooltip": "Density based clustering of crystal misorientations"
    },
    "tags": [
     "nbsphinx-thumbnail"
    ]
   },
   "outputs": [],
   "source": [
    "wireframe_kwargs = dict(color=\"black\", linewidth=0.5, alpha=0.1, rcount=361, ccount=361)\n",
    "fig = mori.scatter(\n",
    "    projection=\"axangle\",\n",
    "    wireframe_kwargs=wireframe_kwargs,\n",
    "    c=labels_rgb.reshape(-1, 3),\n",
    "    s=4,\n",
    "    alpha=0.5,\n",
    "    return_figure=True,\n",
    ")\n",
    "ax = fig.axes[0]\n",
    "ax.view_init(elev=90, azim=-60)\n",
    "\n",
    "handle_kwds = dict(marker=\"o\", color=\"none\", markersize=10)\n",
    "handles = []\n",
    "for i in range(n_clusters):\n",
    "    line = Line2D([0], [0], label=i + 1, markerfacecolor=colors[i], **handle_kwds)\n",
    "    handles.append(line)\n",
    "ax.legend(\n",
    "    handles=handles,\n",
    "    loc=\"upper left\",\n",
    "    numpoints=1,\n",
    "    labelspacing=0.15,\n",
    "    columnspacing=0.15,\n",
    "    handletextpad=0.05\n",
    ");"
   ]
  },
  {
   "cell_type": "markdown",
   "metadata": {},
   "source": [
    "Plot side view of misorientation clusters in the fundamental zone for the (*D6*, *D6*) bicrystal symmetry"
   ]
  },
  {
   "cell_type": "code",
   "execution_count": null,
   "metadata": {},
   "outputs": [],
   "source": [
    "fig2 = mori.scatter(\n",
    "    return_figure=True,\n",
    "    wireframe_kwargs=wireframe_kwargs,\n",
    "    c=labels_rgb.reshape(-1, 3),\n",
    "    s=4,\n",
    ")\n",
    "ax2 = fig2.axes[0]\n",
    "ax2.view_init(elev=0, azim=-60)"
   ]
  },
  {
   "cell_type": "markdown",
   "metadata": {},
   "source": [
    "Generate map of boundaries colored according to cluster membership"
   ]
  },
  {
   "cell_type": "code",
   "execution_count": null,
   "metadata": {},
   "outputs": [],
   "source": [
    "mapping = np.ones(mori_all.shape + (3,))\n",
    "new_mask = np.where(boundary_mask)[0][~small_mask], np.where(boundary_mask)[1][~small_mask]\n",
    "mapping[new_mask] = labels_rgb"
   ]
  },
  {
   "cell_type": "markdown",
   "metadata": {},
   "source": [
    "Plot map of boundaries colored according to cluster membership"
   ]
  },
  {
   "cell_type": "code",
   "execution_count": null,
   "metadata": {},
   "outputs": [],
   "source": [
    "fig3, ax3 = plt.subplots(figsize=(15, 10))\n",
    "ax3.imshow(mapping)\n",
    "ax3.set_xticks([])\n",
    "ax3.set_yticks([]);"
   ]
  }
 ],
 "metadata": {
  "kernelspec": {
   "display_name": "Python 3 (ipykernel)",
   "language": "python",
   "name": "python3"
  },
  "language_info": {
   "codemirror_mode": {
    "name": "ipython",
    "version": 3
   },
   "file_extension": ".py",
   "mimetype": "text/x-python",
   "name": "python",
   "nbconvert_exporter": "python",
   "pygments_lexer": "ipython3",
   "version": "3.10.4"
  }
 },
 "nbformat": 4,
 "nbformat_minor": 4
}
