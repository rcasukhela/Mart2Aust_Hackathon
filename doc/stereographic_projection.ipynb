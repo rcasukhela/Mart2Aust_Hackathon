{
 "cells": [
  {
   "cell_type": "markdown",
   "id": "fa336140",
   "metadata": {
    "nbsphinx": "hidden"
   },
   "source": [
    "This notebook is part of the *orix* documentation https://orix.readthedocs.io. Links to the documentation won’t work from the notebook."
   ]
  },
  {
   "cell_type": "markdown",
   "id": "2e8bd570",
   "metadata": {},
   "source": [
    "# Stereographic projection\n",
    "\n",
    "The stereographic projection maps a sphere onto a plane and preserves angles at\n",
    "which curves meet. In orix, the projection is used to project unit\n",
    "[Vector3d](reference.rst#orix.vector.Vector3d) objects onto the equatorial plane\n",
    "represented in spherical coordinates. These are the azimuth angle $\\phi$, in the\n",
    "range $[0^{\\circ}, 360^{\\circ}]$, and the polar angle $\\theta$, in the range\n",
    "$[0^{\\circ}, 90^{\\circ}]$ on the upper hemisphere and\n",
    "$[90^{\\circ}, 180^{\\circ}]$ on the lower hemisphere. The projection is\n",
    "implemented in\n",
    "[StereographicProjection](reference.rst#orix.projections.StereographicProjection),\n",
    "together with the\n",
    "[InverseStereographicProjection](reference.rst#orix.projections.InverseStereographicProjection).\n",
    "These are used in the\n",
    "[StereographicPlot](reference.rst#orix.plot.StereographicPlot), which extends\n",
    "Matplotlib's projections framework for plotting of `Vector3d` objects.\n",
    "\n",
    "The projection can be used \"from Matplotlib\", meaning that `Vector3d` objects or\n",
    "spherical coordinates ($\\phi$, $\\theta$) are passed to Matplotlib functions.\n",
    "While this is the most customizable way of plotting vectors, \n",
    "[Vector3d.scatter()](reference.rst#orix.vector.Vector3d.scatter) and\n",
    "[Vector3d.draw_circle()](reference.rst#orix.vector.Vector3d.draw_circle) methods\n",
    "are also provided for quick and easy plotting."
   ]
  },
  {
   "cell_type": "code",
   "execution_count": null,
   "id": "2db2bd9f",
   "metadata": {},
   "outputs": [],
   "source": [
    "# Exchange \"inline\" for:\n",
    "# \"qt5\" for interactive plotting from the pyqt package\n",
    "# \"notebook\" for inline interactive plotting when running on Binder\n",
    "%matplotlib inline\n",
    "\n",
    "import tempfile\n",
    "import numpy as np\n",
    "import matplotlib.pyplot as plt\n",
    "from orix import plot  # Must be imported for Matplotlib to register orix' projections like \"stereographic\"\n",
    "from orix.vector import Vector3d\n",
    "\n",
    "\n",
    "# We'll want our plots to look a bit larger than the default size\n",
    "plt.rcParams.update({\n",
    "    \"figure.figsize\": (10, 5),\n",
    "    \"lines.markersize\": 10,\n",
    "    \"font.size\": 20,\n",
    "    \"axes.grid\": False,\n",
    "})"
   ]
  },
  {
   "cell_type": "markdown",
   "id": "91d9b274",
   "metadata": {},
   "source": [
    "## Plot vectors"
   ]
  },
  {
   "cell_type": "markdown",
   "id": "7edd3f6f",
   "metadata": {},
   "source": [
    "Plot three vectors on the upper hemisphere with\n",
    "[Vector3d.scatter()](reference.rst#orix.vector.Vector3d.scatter)"
   ]
  },
  {
   "cell_type": "code",
   "execution_count": null,
   "id": "969ecff1",
   "metadata": {},
   "outputs": [],
   "source": [
    "v1 = Vector3d([[1, 0, 0], [0, 1, 0], [0, 0, 1]])\n",
    "v1.scatter()"
   ]
  },
  {
   "cell_type": "markdown",
   "id": "75d763d5",
   "metadata": {},
   "source": [
    "The spherical coordinates can be viewed while moving the cursor over the\n",
    "equatorial plane when plotting interactively (with `qt5`, `notebook`, or similar\n",
    "backends).\n",
    "\n",
    "We can return the figure to save it or continue building upon it by passing\n",
    "`return_figure=True`"
   ]
  },
  {
   "cell_type": "code",
   "execution_count": null,
   "id": "79c46318",
   "metadata": {},
   "outputs": [],
   "source": [
    "temp_dir = tempfile.mkdtemp() + \"/\"  # Write to a temporary directory\n",
    "vector_file = temp_dir + \"vectors.png\"\n",
    "fig0 = v1.scatter(c=[\"r\", \"g\", \"b\"], return_figure=True)\n",
    "fig0.savefig(vector_file, bbox_inches=\"tight\", pad_inches=0)"
   ]
  },
  {
   "cell_type": "markdown",
   "id": "33c2503e",
   "metadata": {},
   "source": [
    "From Matplotlib with\n",
    "[StereographicPlot.scatter()](reference.rst#orix.plot.StereographicPlot.scatter)"
   ]
  },
  {
   "cell_type": "code",
   "execution_count": null,
   "id": "2efffe3c",
   "metadata": {},
   "outputs": [],
   "source": [
    "fig, ax = plt.subplots(subplot_kw=dict(projection=\"stereographic\"))\n",
    "ax.scatter(v1, c=[\"r\", \"g\", \"b\"])"
   ]
  },
  {
   "cell_type": "markdown",
   "id": "02c31caf",
   "metadata": {},
   "source": [
    "As usual with Matplotlib, the figure axes can be obtained from the returned `fig1`\n",
    "above"
   ]
  },
  {
   "cell_type": "code",
   "execution_count": null,
   "id": "0655d90e",
   "metadata": {},
   "outputs": [],
   "source": [
    "fig0.axes[0].name"
   ]
  },
  {
   "cell_type": "markdown",
   "id": "04d23514",
   "metadata": {},
   "source": [
    "Let's turn on the azimuth and polar grid by updating the Matplotlib preferences"
   ]
  },
  {
   "cell_type": "code",
   "execution_count": null,
   "id": "debb1d3c",
   "metadata": {},
   "outputs": [],
   "source": [
    "plt.rcParams[\"axes.grid\"] = True"
   ]
  },
  {
   "cell_type": "markdown",
   "id": "ceb335ae",
   "metadata": {},
   "source": [
    "### Upper and/or lower hemisphere\n",
    "\n",
    "We can plot vectors impinging on the upper hemisphere and/or the lower hemisphere\n",
    "by passing \"upper\", \"lower\", or \"both\" to the `hemisphere` parameter in\n",
    "[Vector3d.scatter()](reference.rst#orix.vector.Vector3d.scatter)"
   ]
  },
  {
   "cell_type": "code",
   "execution_count": null,
   "id": "bbf35de5",
   "metadata": {},
   "outputs": [],
   "source": [
    "v2 = Vector3d([[1, 1, 2], [1, 1, -1]])\n",
    "\n",
    "fig_kwargs = dict(figsize=(5, 5))\n",
    "labels = [\"x\", \"y\", None]\n",
    "v2.scatter(\n",
    "    axes_labels=labels, show_hemisphere_label=True, figure_kwargs=fig_kwargs\n",
    ")  # \"upper\" default\n",
    "v2.scatter(\n",
    "    hemisphere=\"lower\",\n",
    "    axes_labels=labels,\n",
    "    show_hemisphere_label=True,\n",
    "    figure_kwargs=fig_kwargs\n",
    ")\n",
    "v2.scatter(hemisphere=\"both\", axes_labels=labels, c=[\"C0\", \"C1\"])"
   ]
  },
  {
   "cell_type": "markdown",
   "id": "a8732363",
   "metadata": {},
   "source": [
    "When `reproject=True`, vectors impinging on the opposite hemisphere are reprojected onto the visible hemisphere after reflection in the projection plane."
   ]
  },
  {
   "cell_type": "code",
   "execution_count": null,
   "id": "3e7c076d",
   "metadata": {},
   "outputs": [],
   "source": [
    "reproject_scatter_kwargs = dict(marker=\"o\", fc=\"None\", ec=\"r\", s=150)\n",
    "v2.scatter(axes_labels=labels, show_hemisphere_label=True, figure_kwargs=fig_kwargs, reproject=True, reproject_scatter_kwargs=reproject_scatter_kwargs)"
   ]
  },
  {
   "cell_type": "markdown",
   "id": "e9c8c664",
   "metadata": {},
   "source": [
    "From Matplotlib by setting the\n",
    "[StereographicPlot.hemisphere](reference.rst#orix.plot.StereographicPlot.hemisphere)\n",
    "attribute. Remember to set the hemisphere *before* calling `scatter()`"
   ]
  },
  {
   "cell_type": "code",
   "execution_count": null,
   "id": "0250ba7f",
   "metadata": {},
   "outputs": [],
   "source": [
    "fig, ax = plt.subplots(ncols=2, subplot_kw=dict(projection=\"stereographic\"))\n",
    "\n",
    "ax[0].scatter(v2, c=\"C0\")  # blue\n",
    "ax[0].show_hemisphere_label(color=\"C0\")  # Pass keyword arguments to text()\n",
    "ax[0].set_labels(zlabel=None)\n",
    "\n",
    "ax[1].hemisphere = \"lower\"  # /\"south\", or \"upper\"/\"north\"\n",
    "ax[1].scatter(v2, c=\"C1\")  # orange\n",
    "ax[1].show_hemisphere_label()\n",
    "ax[1].set_labels(\"RD\", \"TD\", \"ND\", size=15)  # Pass keyword arguments to text()"
   ]
  },
  {
   "cell_type": "markdown",
   "id": "637daa9d",
   "metadata": {},
   "source": [
    "### Control grid\n",
    "\n",
    "Whether to show the grid or not can be set globally via\n",
    "[Matplotlib rcParams](https://matplotlib.org/stable/tutorials/introductory/customizing.html)\n",
    "as we did above, or controlled via the parameters `grid`, True/False, and\n",
    "`grid_resolution`, a tuple with (azimuth, polar) resolution in degrees, to\n",
    "[Vector3d.scatter()](reference.rst#orix.vector.Vector3d.scatter). Default grid\n",
    "resolution is $10^{\\circ}$ for both grids."
   ]
  },
  {
   "cell_type": "code",
   "execution_count": null,
   "id": "694a6016",
   "metadata": {},
   "outputs": [],
   "source": [
    "v3 = Vector3d([[0, 0, 1], [1, 0, 1], [1, 1, 1]])\n",
    "v3.scatter(grid_resolution=(30, 15))"
   ]
  },
  {
   "cell_type": "markdown",
   "id": "f2aaab56",
   "metadata": {},
   "source": [
    "These can also be set after the figure is created by returning the figure"
   ]
  },
  {
   "cell_type": "code",
   "execution_count": null,
   "id": "d82125fa",
   "metadata": {},
   "outputs": [],
   "source": [
    "v4 = Vector3d(np.append(v3.data, -v3.data, axis=0))\n",
    "\n",
    "fig4 = v4.scatter(hemisphere=\"both\", return_figure=True)\n",
    "ax0, ax1 = fig4.axes\n",
    "ax0.stereographic_grid(azimuth_resolution=45)\n",
    "ax1.stereographic_grid(polar_resolution=5)"
   ]
  },
  {
   "cell_type": "markdown",
   "id": "f2915559",
   "metadata": {},
   "source": [
    "We can also remove the grid if desirable"
   ]
  },
  {
   "cell_type": "code",
   "execution_count": null,
   "id": "405e571a",
   "metadata": {},
   "outputs": [],
   "source": [
    "v4.scatter(hemisphere=\"both\", grid=False)"
   ]
  },
  {
   "cell_type": "markdown",
   "id": "f269736b",
   "metadata": {},
   "source": [
    "From Matplotlib, the polar and azimuth grid resolution can be set either upon\n",
    "axis initialization or after the axis is created using\n",
    "[StereographicPlot.stereographic_grid()](reference.rst#orix.plot.StereographicPlot.stereographic_grid)"
   ]
  },
  {
   "cell_type": "code",
   "execution_count": null,
   "id": "d7143bd4",
   "metadata": {},
   "outputs": [],
   "source": [
    "subplot_kw = dict(\n",
    "    projection=\"stereographic\", polar_resolution=10, azimuth_resolution=10\n",
    ")\n",
    "fig, ax = plt.subplots(ncols=3, figsize=(15, 20), subplot_kw=subplot_kw)\n",
    "\n",
    "ax[0].scatter(v4)\n",
    "ax[0].show_hemisphere_label()\n",
    "\n",
    "ax[1].hemisphere = \"lower\"\n",
    "ax[1].show_hemisphere_label()\n",
    "ax[1].scatter(v4)\n",
    "ax[1].stereographic_grid(azimuth_resolution=30, polar_resolution=15)\n",
    "\n",
    "ax[2].scatter(v4)\n",
    "ax[2].stereographic_grid(False)"
   ]
  },
  {
   "cell_type": "markdown",
   "id": "b41401bb",
   "metadata": {},
   "source": [
    "### Annotate vectors\n",
    "\n",
    "Vectors can be annotated by passing a list of strings to the `vector_labels` \n",
    "parameter in [Vector3d.scatter()](reference.rst#orix.vector.Vector3d.scatter)"
   ]
  },
  {
   "cell_type": "code",
   "execution_count": null,
   "id": "a0ad745b",
   "metadata": {},
   "outputs": [],
   "source": [
    "v4.scatter(\n",
    "    hemisphere=\"both\",\n",
    "    vector_labels=[str(vi).replace(\" \", \"\") for vi in v4.data],\n",
    "    text_kwargs=dict(size=15)\n",
    ")"
   ]
  },
  {
   "cell_type": "markdown",
   "id": "7d1f28fb",
   "metadata": {},
   "source": [
    "From Matplotlib, by looping over the vectors and adding text markers using\n",
    "[StereographicPlot.text()](reference.rst#orix.plot.StereographicPlot.text)"
   ]
  },
  {
   "cell_type": "code",
   "execution_count": null,
   "id": "a68fb09d",
   "metadata": {},
   "outputs": [],
   "source": [
    "fig, ax = plt.subplots(ncols=2, subplot_kw=dict(projection=\"stereographic\"))\n",
    "\n",
    "format_vector = lambda v: str(v.data[0]).replace(\" \", \"\")\n",
    "\n",
    "ax[0].scatter(v4)\n",
    "ax[0].show_hemisphere_label()\n",
    "for vi in v4:\n",
    "    ax[0].text(vi, s=format_vector(vi), size=15)\n",
    "    \n",
    "ax[1].hemisphere = \"lower\"\n",
    "ax[1].scatter(v4)\n",
    "ax[1].show_hemisphere_label()\n",
    "for vi in v4[:2]:\n",
    "    ax[1].text(vi, s=format_vector(vi), size=15)\n",
    "for vi in v4[2:]:\n",
    "    ax[1].text(vi, s=format_vector(vi), size=15)"
   ]
  },
  {
   "cell_type": "markdown",
   "id": "2a378c5d",
   "metadata": {},
   "source": [
    "### Pass spherical coordinates\n",
    "\n",
    "We can pass azimuth and polar angles instead of passing vectors. This only works\n",
    "in the \"from Matplotlib\" way"
   ]
  },
  {
   "cell_type": "code",
   "execution_count": null,
   "id": "d746fe7d",
   "metadata": {},
   "outputs": [],
   "source": [
    "fig, ax = plt.subplots(\n",
    "    figsize=(5, 5), subplot_kw=dict(projection=\"stereographic\")\n",
    ")\n",
    "azimuth = np.deg2rad([0, 60, 180])\n",
    "polar = np.deg2rad([0, 60, 60])\n",
    "ax.scatter(azimuth, polar, c=[\"C0\", \"C1\", \"C2\"], s=200)\n",
    "ax.set_labels(\"RD\", \"TD\", None)\n",
    "ax.show_hemisphere_label()"
   ]
  },
  {
   "cell_type": "markdown",
   "id": "a03fc417",
   "metadata": {},
   "source": [
    "Here, we also passed `None` to\n",
    "[StereographicPlot.set_labels()](reference.rst#orix.plot.StereographicPlot.set_labels)\n",
    "so that the Z axis label is not shown.\n",
    "\n",
    "Producing the exact same plot with `Vector3d.scatter()`"
   ]
  },
  {
   "cell_type": "code",
   "execution_count": null,
   "id": "9b21afe4",
   "metadata": {},
   "outputs": [],
   "source": [
    "Vector3d.from_polar(azimuth=azimuth, polar=polar).scatter(\n",
    "    axes_labels=[\"RD\", \"TD\", None],\n",
    "    show_hemisphere_label=True,\n",
    "    figure_kwargs=dict(figsize=(5, 5)),\n",
    "    c=[\"C0\", \"C1\", \"C2\"],\n",
    "    s=200\n",
    ")"
   ]
  },
  {
   "cell_type": "markdown",
   "id": "bc51dfd4",
   "metadata": {},
   "source": [
    "### Draw great and small circles\n",
    "\n",
    "We can draw the trace of a plane perpendicular to a vector using\n",
    "[Vector3d.draw_circle()](reference.rst#orix.vector.Vector3d.draw_circle)"
   ]
  },
  {
   "cell_type": "code",
   "execution_count": null,
   "id": "c4a28a90",
   "metadata": {},
   "outputs": [],
   "source": [
    "v6 = Vector3d.from_polar(azimuth=np.deg2rad([0, 60, 180]), polar=np.deg2rad([0, 60, 60]))\n",
    "\n",
    "colors = [\"C0\", \"C1\", \"C2\"]\n",
    "fig6 = v6.scatter(\n",
    "    c=colors,\n",
    "    s=200,\n",
    "    axes_labels=[\"RD\", \"TD\", None],\n",
    "    show_hemisphere_label=True,\n",
    "    return_figure=True\n",
    ")\n",
    "v6.draw_circle(color=colors, linewidth=2, figure=fig6)"
   ]
  },
  {
   "cell_type": "markdown",
   "id": "d6f40fd2",
   "metadata": {},
   "source": [
    "Let's also add the vector perpendicular to the last two vectors and its great\n",
    "circle. We can add to the previous figure by passing the returned figure into\n",
    "the `figure` parameter in\n",
    "[Vector3d.scatter()](reference.rst#orix.vector.Vector3d.scatter) and\n",
    "[Vector3d.draw_circle()](reference.rst#orix.vector.Vector3d.draw_circle)"
   ]
  },
  {
   "cell_type": "code",
   "execution_count": null,
   "id": "4026c090",
   "metadata": {
    "nbsphinx-thumbnail": {
     "tooltip": "Visualizing 3D vectors in 2D"
    },
    "tags": [
     "nbsphinx-thumbnail"
    ]
   },
   "outputs": [],
   "source": [
    "v7 = v6[1].cross(v6[2])\n",
    "v7.scatter(c=\"xkcd:pink\", marker=\"p\", s=250, figure=fig6)\n",
    "v7.draw_circle(color=\"xkcd:pink\", linestyle=\"--\", linewidth=3, figure=fig6)\n",
    "\n",
    "# We must redraw the figure when plotting in non-interactive mode\n",
    "fig6"
   ]
  },
  {
   "cell_type": "markdown",
   "id": "36c92e03",
   "metadata": {},
   "source": [
    "From Matplotlib using\n",
    "[StereograhicPlot.draw_circle()](reference.rst#orix.plot.StereographicPlot.draw_circle),\n",
    "also showing a small circle (not perpendicular, but at a $45^{\\circ}$ angle in\n",
    "this case)"
   ]
  },
  {
   "cell_type": "code",
   "execution_count": null,
   "id": "aa8c9e6a",
   "metadata": {},
   "outputs": [],
   "source": [
    "fig, ax = plt.subplots(\n",
    "    figsize=(5, 5), subplot_kw=dict(projection=\"stereographic\")\n",
    ")\n",
    "colors = [\"C0\", \"C1\", \"C2\"]\n",
    "azimuth = np.deg2rad([0, 60, 180])\n",
    "polar = np.deg2rad([0, 60, 60])\n",
    "ax.scatter(azimuth, polar, c=colors, s=200)\n",
    "ax.set_labels(\"RD\", \"TD\", None)\n",
    "ax.show_hemisphere_label()\n",
    "ax.draw_circle(azimuth, polar, color=colors, linewidth=2)\n",
    "\n",
    "# Let's also add the vector perpendicular to the last two vectors and its\n",
    "# great circle\n",
    "v6 = Vector3d.from_polar(azimuth=azimuth[1:], polar=polar[1:])\n",
    "v7 = v6[0].cross(v6[1])\n",
    "ax.scatter(v7, c=\"xkcd:pink\", marker=\"p\", s=250)\n",
    "ax.draw_circle(\n",
    "    v7,\n",
    "    color=\"xkcd:pink\",\n",
    "    linestyle=\"--\",\n",
    "    linewidth=3,\n",
    "    opening_angle=0.25 * np.pi\n",
    ")"
   ]
  },
  {
   "cell_type": "markdown",
   "id": "250cb58c-7dc3-4fe5-9f2f-a7032b990565",
   "metadata": {},
   "source": [
    "We can also draw the part of the circles only visible on the other hemisphere by\n",
    "passing `reproject=True`"
   ]
  },
  {
   "cell_type": "code",
   "execution_count": null,
   "id": "51d8cbfc-15a9-43d2-9fc2-5fa5929f1726",
   "metadata": {},
   "outputs": [],
   "source": [
    "v8 = Vector3d([(1, 1, 1), (-1, 1, 1)])\n",
    "fig = v8.scatter(axes_labels=[\"X\", \"Y\"], return_figure=True, c=[\"C0\", \"C1\"])\n",
    "v8.draw_circle(reproject=True, figure=fig, color=[\"C0\", \"C1\"], opening_angle=np.deg2rad([90, 45]))"
   ]
  },
  {
   "cell_type": "markdown",
   "id": "9eeb812d",
   "metadata": {},
   "source": [
    "### Create a Wulff net\n",
    "\n",
    "We can create a Wulff net by drawing great and small circles"
   ]
  },
  {
   "cell_type": "code",
   "execution_count": null,
   "id": "a40b2663",
   "metadata": {},
   "outputs": [],
   "source": [
    "n = int(90 / 2)  # Degree / net resolution\n",
    "steps = 500\n",
    "kwargs = dict(linewidth=0.25, color=\"k\")\n",
    "\n",
    "polar = np.linspace(0, 0.5 * np.pi, num=n)\n",
    "v_right = Vector3d.from_polar(azimuth=np.zeros(n), polar=polar)\n",
    "v_left = Vector3d.from_polar(azimuth=np.ones(n) * np.pi, polar=polar)\n",
    "v010 = Vector3d.zero(shape=(n,))\n",
    "v010.y = 1\n",
    "v010_opposite = -v010\n",
    "\n",
    "fig, ax = plt.subplots(figsize=(10, 10), subplot_kw=dict(projection=\"stereographic\"))\n",
    "ax.stereographic_grid(False)\n",
    "ax.draw_circle(v_right, steps=steps, **kwargs)\n",
    "ax.draw_circle(v_left, steps=steps, **kwargs)\n",
    "ax.draw_circle(v010, opening_angle=polar, steps=steps, **kwargs)\n",
    "ax.draw_circle(v010_opposite, opening_angle=polar, steps=steps, **kwargs)\n",
    "for label, azimuth in zip([\"B\", \"M''\", \"A\", \"M'\"], np.array([0, 0.5, 1, 1.5]) * np. pi):\n",
    "    ax.text(azimuth, 0.5 * np.pi, s=label, c=\"C1\")"
   ]
  },
  {
   "cell_type": "markdown",
   "id": "d5f54cc4",
   "metadata": {},
   "source": [
    "## Experimental functionality\n",
    "\n",
    "Plot symmetry elements of point groups with proper rotations only, using\n",
    "[StereographicPlot.symmetry_marker()](reference.rst#orix.plot.StereographicPlot.symmetry_marker)"
   ]
  },
  {
   "cell_type": "code",
   "execution_count": null,
   "id": "86c81602",
   "metadata": {},
   "outputs": [],
   "source": [
    "fig, ax = plt.subplots(ncols=2, subplot_kw=dict(projection=\"stereographic\"))\n",
    "\n",
    "marker_size = 500\n",
    "ax[0].stereographic_grid(False)\n",
    "ax[0].set_title(\"432\", pad=20)\n",
    "# 4-fold (outer markers will be clipped a bit...)\n",
    "v4fold = Vector3d([[0, 0, 1], [1, 0, 0], [-1, 0, 0], [0, 1, 0], [0, -1, 0]])\n",
    "ax[0].symmetry_marker(v4fold, fold=4, c=\"C4\", s=marker_size)\n",
    "ax[0].draw_circle(v4fold, color=\"C4\")\n",
    "# 3-fold\n",
    "v3fold = Vector3d([[1, 1, 1], [1, -1, 1], [-1, -1, 1], [-1, 1, 1]])\n",
    "ax[0].symmetry_marker(v3fold, fold=3, c=\"C3\", s=marker_size)\n",
    "ax[0].draw_circle(v3fold, color=\"C3\")\n",
    "# 2-fold\n",
    "v2fold = Vector3d([\n",
    "    [1, 0, 1],\n",
    "    [0, 1, 1],\n",
    "    [-1, 0, 1],\n",
    "    [0, -1, 1],\n",
    "    [1, 1, 0],\n",
    "    [-1, -1, 0],\n",
    "    [-1, 1, 0],\n",
    "    [1, -1, 0],\n",
    "])\n",
    "ax[0].symmetry_marker(v2fold, fold=2, c=\"C2\", s=marker_size)\n",
    "ax[0].draw_circle(v2fold, color=\"C2\")\n",
    "\n",
    "ax[1].stereographic_grid(False)\n",
    "ax[1].set_title(\"222\", pad=20)\n",
    "# 2-fold\n",
    "v2fold = Vector3d([\n",
    "    [0, 0, 1], [1, 0, 0], [-1, 0, 0], [0, 1, 0], [0, -1, 0]\n",
    "])\n",
    "ax[1].symmetry_marker(v2fold, fold=2, c=\"C2\", s=800)\n",
    "ax[1].draw_circle(v2fold, color=\"C2\")"
   ]
  },
  {
   "cell_type": "code",
   "execution_count": null,
   "id": "8112f4eb",
   "metadata": {
    "nbsphinx": "hidden"
   },
   "outputs": [],
   "source": [
    "# Remove files written to disk in this user guide\n",
    "import os\n",
    "os.remove(vector_file)\n",
    "os.rmdir(temp_dir)"
   ]
  }
 ],
 "metadata": {
  "kernelspec": {
   "display_name": "Python 3 (ipykernel)",
   "language": "python",
   "name": "python3"
  },
  "language_info": {
   "codemirror_mode": {
    "name": "ipython",
    "version": 3
   },
   "file_extension": ".py",
   "mimetype": "text/x-python",
   "name": "python",
   "nbconvert_exporter": "python",
   "pygments_lexer": "ipython3",
   "version": "3.10.4"
  }
 },
 "nbformat": 4,
 "nbformat_minor": 5
}
